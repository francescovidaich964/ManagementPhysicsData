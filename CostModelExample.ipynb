{
 "cells": [
  {
   "cell_type": "markdown",
   "metadata": {},
   "source": [
    "# Example workflow calculation. Data reprocessing CPU\n",
    "\n",
    "In this example we show the calculation to estimate the CPU needed to process data on the Grid at Tier-1s and Tier-2s. \n",
    "\n",
    "In this configuration, we process the data collected each year twice, and the data from the previous years in the same Run once. \n",
    "\n",
    "## Input parameters\n",
    "CPU is measured in seconds/event in a CPU core  \n",
    "Sizes (for Disk and Tape) in kBytes/event \n",
    "Atomic unit is the event. \n",
    "\n",
    "For each year (between 2015 and 2029) the computing model parameters can vary. Computing model parameters are stored in the *inP* dictionary:\n",
    "   - RealRecoCPU is the # of seconds of CPU to run reconstruction for one event\n",
    "   - CPUEffReco is the CPU efficiency achieved\n",
    "   - SameYrReprData is how many times data from the current year is processed\n",
    "   - PrevYrReprData is how many times data from previous years is processed\n",
    "   - ReprYrs is a list of years for which data is reprocessed in the current year (eg in 2018 we may wish to process 2015, 2016, 2017)\n",
    "\n",
    "The operation parameters from the LHC and the ATLAS trigger are stored in the *LhcP* dictionary:\n",
    "   - Rate is the averge rate of output from the High Level Trigger (HLT)\n",
    "   - RunTime is how many seconds we expect the LHC to operate in a given year\n",
    "   \n",
    "Parameters are realistic, but somewhat invented. They reflect the growth in CPU/event needed to process events at higher lumi and higher <mu>"
   ]
  },
  {
   "cell_type": "code",
   "execution_count": 1,
   "metadata": {},
   "outputs": [],
   "source": [
    "#\n",
    "# inP is the global variable to store all the performance parameters.\n",
    "# LhcP is the global variable to store the LHC running parameters\n",
    "#\n",
    "inP={}\n",
    "LhcP={}\n",
    "\n",
    "years=range(2015,2029)\n",
    "# Constants\n",
    "Seconds_in_year=365*86400\n",
    "\n"
   ]
  },
  {
   "cell_type": "code",
   "execution_count": 2,
   "metadata": {},
   "outputs": [],
   "source": [
    "#\n",
    "# Parameters to be used for this examples. \n",
    "#\n",
    "\n",
    "def costModelPars():\n",
    "    #\n",
    "    # LHC operating parameters\n",
    "    # Rate in Hz and RunTime in sec\n",
    "    #\n",
    "    LhcP[2015]={'Rate':1000, 'RunTime':3.0E06} # Run 2\n",
    "    LhcP[2016]={'Rate':1000, 'RunTime':7.3E06} # Run 2\n",
    "    LhcP[2017]={'Rate':1000, 'RunTime':7.3E06} # Run 2\n",
    "    LhcP[2018]={'Rate':1000, 'RunTime':7.3E06} # Run 2\n",
    "    LhcP[2019]={'Rate':0, 'RunTime':0.0} # LS2\n",
    "    LhcP[2020]={'Rate':0, 'RunTime':0.0} # LS2\n",
    "    LhcP[2021]={'Rate':1000, 'RunTime':7.3E06} # Run 3\n",
    "    LhcP[2022]={'Rate':1000, 'RunTime':7.3E06} # Run 3\n",
    "    LhcP[2023]={'Rate':1000, 'RunTime':7.3E06} # Run 3\n",
    "    LhcP[2024]={'Rate':0, 'RunTime':0.0} # LS3\n",
    "    LhcP[2025]={'Rate':0, 'RunTime':0.0} # LS3\n",
    "    LhcP[2026]={'Rate':10000, 'RunTime':7.3E06} # Run 4\n",
    "    LhcP[2027]={'Rate':10000, 'RunTime':7.3E06} # Run 4\n",
    "    LhcP[2028]={'Rate':10000, 'RunTime':7.3E06} # Run 4\n",
    "    \n",
    "    #\n",
    "    # CPU parameters\n",
    "    # RealRecoCPU: time to reconstruct event\n",
    "    # AODsize: size of the reconstructed event (kB)\n",
    "    # RAWsize: size of the raw dat of a single event (kB)\n",
    "    inP[2015]={'RealRecoCPU':20, 'AODSize': 250, 'RAWSize': 1000}\n",
    "    inP[2016]={'RealRecoCPU':20, 'AODSize': 250, 'RAWSize': 1000}\n",
    "    inP[2017]={'RealRecoCPU':25, 'AODSize': 250, 'RAWSize': 1000}\n",
    "    inP[2018]={'RealRecoCPU':25, 'AODSize': 250, 'RAWSize': 1000}\n",
    "    inP[2019]={'RealRecoCPU':25, 'AODSize': 250, 'RAWSize': 1000}\n",
    "    inP[2020]={'RealRecoCPU':25, 'AODSize': 250, 'RAWSize': 1000}\n",
    "    inP[2021]={'RealRecoCPU':50, 'AODSize': 350, 'RAWSize': 1000}\n",
    "    inP[2022]={'RealRecoCPU':50, 'AODSize': 350, 'RAWSize': 1000}\n",
    "    inP[2023]={'RealRecoCPU':50, 'AODSize': 350, 'RAWSize': 1000}\n",
    "    inP[2024]={'RealRecoCPU':50, 'AODSize': 350, 'RAWSize': 1000}\n",
    "    inP[2025]={'RealRecoCPU':130, 'AODSize': 1000, 'RAWSize': 5000}\n",
    "    inP[2026]={'RealRecoCPU':130, 'AODSize': 1000, 'RAWSize': 5000}\n",
    "    inP[2027]={'RealRecoCPU':130, 'AODSize': 1000, 'RAWSize': 5000}\n",
    "    inP[2028]={'RealRecoCPU':130, 'AODSize': 1000, 'RAWSize': 5000}\n",
    "    \n",
    "    # Assume CPU efficiency is at 75% \n",
    "    for year in years:\n",
    "        inP[year].update({'CPUEffReco':0.75})\n",
    "        \n",
    "    #\n",
    "    # Reprocessing parameters\n",
    "    #\n",
    "    for year in years:\n",
    "        inP[year].update({'SameYrReprData':2})\n",
    "        inP[year].update({'PrevYrReprData':1})\n",
    "\n",
    "    inP[2015].update({'ReprYrs':[]})\n",
    "    inP[2016].update({'ReprYrs':[2015]})\n",
    "    inP[2017].update({'ReprYrs':[2015,2016]})\n",
    "    inP[2018].update({'ReprYrs':[2015, 2016, 2017]})\n",
    "    inP[2019].update({'ReprYrs':[2015, 2016, 2017, 2018]})\n",
    "    inP[2020].update({'ReprYrs':[]})\n",
    "    inP[2021].update({'ReprYrs':[]})\n",
    "    inP[2022].update({'ReprYrs':[2021]})\n",
    "    inP[2023].update({'ReprYrs':[2021,2022]})\n",
    "    inP[2024].update({'ReprYrs':[2021,2022,2023]})\n",
    "    inP[2025].update({'ReprYrs':[]})\n",
    "    inP[2026].update({'ReprYrs':[]})\n",
    "    inP[2027].update({'ReprYrs':[2026]})\n",
    "    inP[2028].update({'ReprYrs':[2026,2027]})  \n",
    "    \n",
    "\n",
    "    "
   ]
  },
  {
   "cell_type": "markdown",
   "metadata": {},
   "source": [
    "## Calculations for data reprocessing\n",
    "For each year we calculate the CPU needed to reprocess data. This is the sum of the CPU needed to reprocess the current year data (twice) and the CPU needed to reprocess some of the previous years data. \n",
    "\n",
    "The assumption for the reprocessing parameters are in the inP dictionary. The LHC parameters are used to calculate the number of events that are collected each year. (So this will be zero during long shutdown years)"
   ]
  },
  {
   "cell_type": "code",
   "execution_count": 3,
   "metadata": {},
   "outputs": [
    {
     "name": "stdout",
     "output_type": "stream",
     "text": [
      "2015 {'RealRecoCPU': 20, 'AODSize': 250, 'RAWSize': 1000, 'CPUEffReco': 0.75, 'SameYrReprData': 2, 'PrevYrReprData': 1, 'ReprYrs': []}\n",
      "2016 {'RealRecoCPU': 20, 'AODSize': 250, 'RAWSize': 1000, 'CPUEffReco': 0.75, 'SameYrReprData': 2, 'PrevYrReprData': 1, 'ReprYrs': [2015]}\n",
      "2017 {'RealRecoCPU': 25, 'AODSize': 250, 'RAWSize': 1000, 'CPUEffReco': 0.75, 'SameYrReprData': 2, 'PrevYrReprData': 1, 'ReprYrs': [2015, 2016]}\n",
      "2018 {'RealRecoCPU': 25, 'AODSize': 250, 'RAWSize': 1000, 'CPUEffReco': 0.75, 'SameYrReprData': 2, 'PrevYrReprData': 1, 'ReprYrs': [2015, 2016, 2017]}\n",
      "2019 {'RealRecoCPU': 25, 'AODSize': 250, 'RAWSize': 1000, 'CPUEffReco': 0.75, 'SameYrReprData': 2, 'PrevYrReprData': 1, 'ReprYrs': [2015, 2016, 2017, 2018]}\n",
      "2020 {'RealRecoCPU': 25, 'AODSize': 250, 'RAWSize': 1000, 'CPUEffReco': 0.75, 'SameYrReprData': 2, 'PrevYrReprData': 1, 'ReprYrs': []}\n",
      "2021 {'RealRecoCPU': 50, 'AODSize': 350, 'RAWSize': 1000, 'CPUEffReco': 0.75, 'SameYrReprData': 2, 'PrevYrReprData': 1, 'ReprYrs': []}\n",
      "2022 {'RealRecoCPU': 50, 'AODSize': 350, 'RAWSize': 1000, 'CPUEffReco': 0.75, 'SameYrReprData': 2, 'PrevYrReprData': 1, 'ReprYrs': [2021]}\n",
      "2023 {'RealRecoCPU': 50, 'AODSize': 350, 'RAWSize': 1000, 'CPUEffReco': 0.75, 'SameYrReprData': 2, 'PrevYrReprData': 1, 'ReprYrs': [2021, 2022]}\n",
      "2024 {'RealRecoCPU': 50, 'AODSize': 350, 'RAWSize': 1000, 'CPUEffReco': 0.75, 'SameYrReprData': 2, 'PrevYrReprData': 1, 'ReprYrs': [2021, 2022, 2023]}\n",
      "2025 {'RealRecoCPU': 130, 'AODSize': 1000, 'RAWSize': 5000, 'CPUEffReco': 0.75, 'SameYrReprData': 2, 'PrevYrReprData': 1, 'ReprYrs': []}\n",
      "2026 {'RealRecoCPU': 130, 'AODSize': 1000, 'RAWSize': 5000, 'CPUEffReco': 0.75, 'SameYrReprData': 2, 'PrevYrReprData': 1, 'ReprYrs': []}\n",
      "2027 {'RealRecoCPU': 130, 'AODSize': 1000, 'RAWSize': 5000, 'CPUEffReco': 0.75, 'SameYrReprData': 2, 'PrevYrReprData': 1, 'ReprYrs': [2026]}\n",
      "2028 {'RealRecoCPU': 130, 'AODSize': 1000, 'RAWSize': 5000, 'CPUEffReco': 0.75, 'SameYrReprData': 2, 'PrevYrReprData': 1, 'ReprYrs': [2026, 2027]}\n"
     ]
    }
   ],
   "source": [
    "# Output quantities\n",
    "NDataEvts={}\n",
    "CPUOneRound={}\n",
    "CPURepr={}\n",
    "\n",
    "# Use default values for parameters\n",
    "costModelPars()\n",
    "\n",
    "for year in years:\n",
    "    print (year, inP[year])"
   ]
  },
  {
   "cell_type": "code",
   "execution_count": 4,
   "metadata": {},
   "outputs": [
    {
     "name": "stdout",
     "output_type": "stream",
     "text": [
      "year \t NEvnt \t CPU1 \t CPU2 \t CPUprv \t CPUall\n",
      "\t *10^9 \t kcores kcores \t kcores \t kcores\n",
      "2015\t   3.0\t     3\t     5\t     0\t \t     5\n",
      "2016\t   7.3\t     6\t    12\t     3\t \t    15\n",
      "2017\t   7.3\t     8\t    15\t     9\t \t    24\n",
      "2018\t   7.3\t     8\t    15\t    16\t \t    32\n",
      "2019\t   0.0\t     0\t     0\t    24\t \t    24\n",
      "2020\t   0.0\t     0\t     0\t     0\t \t     0\n",
      "2021\t   7.3\t    15\t    31\t     0\t \t    31\n",
      "2022\t   7.3\t    15\t    31\t    15\t \t    46\n",
      "2023\t   7.3\t    15\t    31\t    31\t \t    62\n",
      "2024\t   0.0\t     0\t     0\t    46\t \t    46\n",
      "2025\t   0.0\t     0\t     0\t     0\t \t     0\n",
      "2026\t  73.0\t   401\t   802\t     0\t \t   802\n",
      "2027\t  73.0\t   401\t   802\t   401\t \t  1204\n",
      "2028\t  73.0\t   401\t   802\t   802\t \t  1605\n"
     ]
    }
   ],
   "source": [
    "\n",
    "print (\"year \\t NEvnt \\t CPU1 \\t CPU2 \\t CPUprv \\t CPUall\")\n",
    "print (\"\\t *10^9 \\t kcores kcores \\t kcores \\t kcores\")\n",
    "\n",
    "for year in years:\n",
    "# Total number of data events\n",
    "    NDataEvts[year]=LhcP[year]['Rate']*LhcP[year]['RunTime'] # Number of data events recorded\n",
    "\n",
    "# Number of CPU cores needed to process all the data of a given year once\n",
    "    CPUOneRound[year]=NDataEvts[year]*inP[year]['RealRecoCPU']/inP[year]['CPUEffReco']/Seconds_in_year  \n",
    "\n",
    "# Number of CPU cores needed to process all the data of a given year \n",
    "    CPUCurrYr=CPUOneRound[year]*inP[year]['SameYrReprData']\n",
    "\n",
    "# Calculate the number of CPU cores needed to reprocess previous years (this is more complex)\n",
    "    CPUPrevYr=0.\n",
    "    for yr in inP[year]['ReprYrs']:\n",
    "        CPUPrevYr += CPUOneRound[yr]*inP[year]['PrevYrReprData']\n",
    "\n",
    "# Total CPU needed for reprocessing\n",
    "    CPURepr[year]=CPUCurrYr+CPUPrevYr\n",
    "\n",
    "    print(str(year) + '\\t %5.1f'%(NDataEvts[year]/1E9) +\n",
    "                      '\\t %5.0f'%(CPUOneRound[year]/1000.) + \n",
    "                      '\\t %5.0f'%(CPUCurrYr/1000.) + \n",
    "                      '\\t %5.0f'%(CPUPrevYr/1000.) +\n",
    "                      '\\t \\t %5.0f'%(CPURepr[year]/1000.) )\n"
   ]
  },
  {
   "cell_type": "code",
   "execution_count": 5,
   "metadata": {},
   "outputs": [
    {
     "data": {
      "text/html": [
       "<script type=\"text/javascript\">window.PlotlyConfig = {MathJaxConfig: 'local'};</script><script type=\"text/javascript\">if (window.MathJax) {MathJax.Hub.Config({SVG: {font: \"STIX-Web\"}});}</script><script>requirejs.config({paths: { 'plotly': ['https://cdn.plot.ly/plotly-latest.min']},});if(!window._Plotly) {require(['plotly'],function(plotly) {window._Plotly=plotly;});}</script>"
      ],
      "text/vnd.plotly.v1+html": [
       "<script type=\"text/javascript\">window.PlotlyConfig = {MathJaxConfig: 'local'};</script><script type=\"text/javascript\">if (window.MathJax) {MathJax.Hub.Config({SVG: {font: \"STIX-Web\"}});}</script><script>requirejs.config({paths: { 'plotly': ['https://cdn.plot.ly/plotly-latest.min']},});if(!window._Plotly) {require(['plotly'],function(plotly) {window._Plotly=plotly;});}</script>"
      ]
     },
     "metadata": {},
     "output_type": "display_data"
    },
    {
     "data": {
      "application/vnd.plotly.v1+json": {
       "config": {
        "linkText": "Export to plot.ly",
        "plotlyServerURL": "https://plot.ly",
        "showLink": false
       },
       "data": [
        {
         "mode": "lines+markers",
         "name": "CPU",
         "type": "scatter",
         "uid": "cf61ce87-d60d-44cb-877b-08fd587df6b0",
         "x": [
          2015,
          2016,
          2017,
          2018,
          2019,
          2020,
          2021,
          2022,
          2023,
          2024,
          2025,
          2026,
          2027,
          2028
         ],
         "y": [
          5073.566717402334,
          14882.462371046844,
          24141.721630306107,
          31857.771013022153,
          24141.721630306103,
          0,
          30864.1975308642,
          46296.2962962963,
          61728.3950617284,
          46296.2962962963,
          0,
          802469.1358024692,
          1203703.7037037038,
          1604938.2716049384
         ]
        }
       ],
       "layout": {
        "title": {
         "text": "CPU needs (#cores) per year"
        }
       }
      },
      "text/html": [
       "<div id=\"58ed7f3c-0871-45bf-8b33-ae5ee649409f\" style=\"height: 525px; width: 100%;\" class=\"plotly-graph-div\"></div><script type=\"text/javascript\">require([\"plotly\"], function(Plotly) { window.PLOTLYENV=window.PLOTLYENV || {};window.PLOTLYENV.BASE_URL=\"https://plot.ly\";\n",
       "if (document.getElementById(\"58ed7f3c-0871-45bf-8b33-ae5ee649409f\")) {\n",
       "    Plotly.newPlot(\"58ed7f3c-0871-45bf-8b33-ae5ee649409f\", [{\"mode\": \"lines+markers\", \"name\": \"CPU\", \"x\": [2015, 2016, 2017, 2018, 2019, 2020, 2021, 2022, 2023, 2024, 2025, 2026, 2027, 2028], \"y\": [5073.566717402334, 14882.462371046844, 24141.721630306107, 31857.771013022153, 24141.721630306103, 0.0, 30864.1975308642, 46296.2962962963, 61728.3950617284, 46296.2962962963, 0.0, 802469.1358024692, 1203703.7037037038, 1604938.2716049384], \"type\": \"scatter\", \"uid\": \"3fd066c5-c770-4442-9086-81a34bbe2ee1\"}], {\"title\": {\"text\": \"CPU needs (#cores) per year\"}}, {\"showLink\": false, \"linkText\": \"Export to plot.ly\", \"plotlyServerURL\": \"https://plot.ly\"}); \n",
       "}\n",
       "});</script><script type=\"text/javascript\">window.addEventListener(\"resize\", function(){if (document.getElementById(\"58ed7f3c-0871-45bf-8b33-ae5ee649409f\")) {window._Plotly.Plots.resize(document.getElementById(\"58ed7f3c-0871-45bf-8b33-ae5ee649409f\"));};})</script>"
      ],
      "text/vnd.plotly.v1+html": [
       "<div id=\"58ed7f3c-0871-45bf-8b33-ae5ee649409f\" style=\"height: 525px; width: 100%;\" class=\"plotly-graph-div\"></div><script type=\"text/javascript\">require([\"plotly\"], function(Plotly) { window.PLOTLYENV=window.PLOTLYENV || {};window.PLOTLYENV.BASE_URL=\"https://plot.ly\";\n",
       "if (document.getElementById(\"58ed7f3c-0871-45bf-8b33-ae5ee649409f\")) {\n",
       "    Plotly.newPlot(\"58ed7f3c-0871-45bf-8b33-ae5ee649409f\", [{\"mode\": \"lines+markers\", \"name\": \"CPU\", \"x\": [2015, 2016, 2017, 2018, 2019, 2020, 2021, 2022, 2023, 2024, 2025, 2026, 2027, 2028], \"y\": [5073.566717402334, 14882.462371046844, 24141.721630306107, 31857.771013022153, 24141.721630306103, 0.0, 30864.1975308642, 46296.2962962963, 61728.3950617284, 46296.2962962963, 0.0, 802469.1358024692, 1203703.7037037038, 1604938.2716049384], \"type\": \"scatter\", \"uid\": \"3fd066c5-c770-4442-9086-81a34bbe2ee1\"}], {\"title\": {\"text\": \"CPU needs (#cores) per year\"}}, {\"showLink\": false, \"linkText\": \"Export to plot.ly\", \"plotlyServerURL\": \"https://plot.ly\"}); \n",
       "}\n",
       "});</script><script type=\"text/javascript\">window.addEventListener(\"resize\", function(){if (document.getElementById(\"58ed7f3c-0871-45bf-8b33-ae5ee649409f\")) {window._Plotly.Plots.resize(document.getElementById(\"58ed7f3c-0871-45bf-8b33-ae5ee649409f\"));};})</script>"
      ]
     },
     "metadata": {},
     "output_type": "display_data"
    }
   ],
   "source": [
    "import numpy as np\n",
    "import plotly \n",
    "import plotly.graph_objs as go\n",
    "\n",
    "plotly.offline.init_notebook_mode(connected=True)\n",
    "\n",
    "#print [CPURepr[x] for x in years] \n",
    "\n",
    "data1 = go.Scatter(x=np.array(years), y=[CPURepr[x] for x in years], mode='lines+markers', name='CPU')\n",
    "layout = go.Layout(title=\"CPU needs (#cores) per year\")\n",
    "data = [data1,]\n",
    "plotly.offline.iplot({\"data\": data, \"layout\": layout})"
   ]
  },
  {
   "cell_type": "markdown",
   "metadata": {},
   "source": [
    "# Exercise 1\n",
    "\n",
    "Try now to calculate how much CPU is needed for producing simulated data (Monte Carlo). \n",
    "Monte Carlo production happens in 3 steps: \n",
    "\n",
    "1) Event Generation: from a random seed one produces a \"perfect event\" (no interaction with the detector). This requires in average 10 seconds of CPU per event. \n",
    "\n",
    "2) Detector Simulation: you simulate the interactions of the particles with the instrument (the detector). This might be very time consuming. Consider 350 seconds of CPU/event \n",
    "\n",
    "3) Event Reconstruction: similar to reconstruction for real data, use the same number of seconds/event \n",
    "\n",
    "Every year you need to simulate the same # of events as the real data you collect. However, you need to reconstruct them twice every year, to adjust for the correct data taking conditions\n",
    "\n",
    "In the years when you have no data taking, you still need to produce Monte Carlo samples. You need to double up the event statistic you produced in the previous years of Run. For example if during LHC Run-2 (2015, 2016, 2017) you produced N events, in the 2019,2020 shutdown you need to produce other N.  \n",
    "\n",
    "Do you need more CPUs for data or Monte Carlo? \n"
   ]
  },
  {
   "cell_type": "code",
   "execution_count": 6,
   "metadata": {},
   "outputs": [],
   "source": [
    "# Update with number of sim events to generate and reconstruct per year\n",
    "LhcP[2015].update({'NSimEv' : LhcP[2015]['Rate']*LhcP[2015]['RunTime']})\n",
    "LhcP[2016].update({'NSimEv' : LhcP[2016]['Rate']*LhcP[2016]['RunTime']})\n",
    "LhcP[2017].update({'NSimEv' : LhcP[2017]['Rate']*LhcP[2017]['RunTime']})\n",
    "LhcP[2018].update({'NSimEv' : LhcP[2018]['Rate']*LhcP[2018]['RunTime']})\n",
    "\n",
    "LhcP[2019].update({'NSimEv' : (LhcP[2015]['NSimEv'] + \n",
    "                               LhcP[2016]['NSimEv'] +\n",
    "                               LhcP[2017]['NSimEv'] + \n",
    "                               LhcP[2018]['NSimEv'] ) /2 })\n",
    "LhcP[2020].update({'NSimEv' : LhcP[2019]['NSimEv']})\n",
    "\n",
    "LhcP[2021].update({'NSimEv' : LhcP[2021]['Rate']*LhcP[2021]['RunTime']})\n",
    "LhcP[2022].update({'NSimEv' : LhcP[2022]['Rate']*LhcP[2022]['RunTime']})\n",
    "LhcP[2023].update({'NSimEv' : LhcP[2023]['Rate']*LhcP[2023]['RunTime']})\n",
    "\n",
    "LhcP[2024].update({'NSimEv' : (LhcP[2021]['NSimEv'] + \n",
    "                               LhcP[2022]['NSimEv'] + \n",
    "                               LhcP[2023]['NSimEv'] ) /2 })\n",
    "LhcP[2025].update({'NSimEv' : LhcP[2024]['NSimEv']})\n",
    "\n",
    "LhcP[2026].update({'NSimEv' : LhcP[2026]['Rate']*LhcP[2026]['RunTime']})\n",
    "LhcP[2027].update({'NSimEv' : LhcP[2027]['Rate']*LhcP[2027]['RunTime']})\n",
    "LhcP[2028].update({'NSimEv' : LhcP[2028]['Rate']*LhcP[2028]['RunTime']})"
   ]
  },
  {
   "cell_type": "code",
   "execution_count": 16,
   "metadata": {
    "scrolled": false
   },
   "outputs": [
    {
     "data": {
      "text/html": [
       "<script type=\"text/javascript\">window.PlotlyConfig = {MathJaxConfig: 'local'};</script><script type=\"text/javascript\">if (window.MathJax) {MathJax.Hub.Config({SVG: {font: \"STIX-Web\"}});}</script><script>requirejs.config({paths: { 'plotly': ['https://cdn.plot.ly/plotly-latest.min']},});if(!window._Plotly) {require(['plotly'],function(plotly) {window._Plotly=plotly;});}</script>"
      ],
      "text/vnd.plotly.v1+html": [
       "<script type=\"text/javascript\">window.PlotlyConfig = {MathJaxConfig: 'local'};</script><script type=\"text/javascript\">if (window.MathJax) {MathJax.Hub.Config({SVG: {font: \"STIX-Web\"}});}</script><script>requirejs.config({paths: { 'plotly': ['https://cdn.plot.ly/plotly-latest.min']},});if(!window._Plotly) {require(['plotly'],function(plotly) {window._Plotly=plotly;});}</script>"
      ]
     },
     "metadata": {},
     "output_type": "display_data"
    },
    {
     "name": "stdout",
     "output_type": "stream",
     "text": [
      "[101471.33434804667, 246913.58024691357, 253086.41975308643, 253086.41975308643, 431633.6884830035, 431633.6884830035, 283950.6172839506, 283950.6172839506, 283950.6172839506, 425925.9259259259, 574074.074074074, 3827160.4938271604, 3827160.4938271604, 3827160.4938271604]\n"
     ]
    },
    {
     "data": {
      "application/vnd.plotly.v1+json": {
       "config": {
        "linkText": "Export to plot.ly",
        "plotlyServerURL": "https://plot.ly",
        "showLink": false
       },
       "data": [
        {
         "mode": "lines+markers",
         "name": "CPU",
         "type": "scatter",
         "uid": "577bf81f-2c4c-40ac-953c-e4a7fda815ff",
         "x": [
          2015,
          2016,
          2017,
          2018,
          2019,
          2020,
          2021,
          2022,
          2023,
          2024,
          2025,
          2026,
          2027,
          2028
         ],
         "y": [
          101471.33434804667,
          246913.58024691357,
          253086.41975308643,
          253086.41975308643,
          431633.6884830035,
          431633.6884830035,
          283950.6172839506,
          283950.6172839506,
          283950.6172839506,
          425925.9259259259,
          574074.074074074,
          3827160.4938271604,
          3827160.4938271604,
          3827160.4938271604
         ]
        }
       ],
       "layout": {
        "title": {
         "text": "CPU needs (#cores) per year"
        }
       }
      },
      "text/html": [
       "<div id=\"167ca468-7f20-444c-a28e-c304064ac444\" style=\"height: 525px; width: 100%;\" class=\"plotly-graph-div\"></div><script type=\"text/javascript\">require([\"plotly\"], function(Plotly) { window.PLOTLYENV=window.PLOTLYENV || {};window.PLOTLYENV.BASE_URL=\"https://plot.ly\";\n",
       "if (document.getElementById(\"167ca468-7f20-444c-a28e-c304064ac444\")) {\n",
       "    Plotly.newPlot(\"167ca468-7f20-444c-a28e-c304064ac444\", [{\"mode\": \"lines+markers\", \"name\": \"CPU\", \"x\": [2015, 2016, 2017, 2018, 2019, 2020, 2021, 2022, 2023, 2024, 2025, 2026, 2027, 2028], \"y\": [101471.33434804667, 246913.58024691357, 253086.41975308643, 253086.41975308643, 431633.6884830035, 431633.6884830035, 283950.6172839506, 283950.6172839506, 283950.6172839506, 425925.9259259259, 574074.074074074, 3827160.4938271604, 3827160.4938271604, 3827160.4938271604], \"type\": \"scatter\", \"uid\": \"5eb1b210-8974-49cf-b268-b75ea7c20da2\"}], {\"title\": {\"text\": \"CPU needs (#cores) per year\"}}, {\"showLink\": false, \"linkText\": \"Export to plot.ly\", \"plotlyServerURL\": \"https://plot.ly\"}); \n",
       "}\n",
       "});</script><script type=\"text/javascript\">window.addEventListener(\"resize\", function(){if (document.getElementById(\"167ca468-7f20-444c-a28e-c304064ac444\")) {window._Plotly.Plots.resize(document.getElementById(\"167ca468-7f20-444c-a28e-c304064ac444\"));};})</script>"
      ],
      "text/vnd.plotly.v1+html": [
       "<div id=\"167ca468-7f20-444c-a28e-c304064ac444\" style=\"height: 525px; width: 100%;\" class=\"plotly-graph-div\"></div><script type=\"text/javascript\">require([\"plotly\"], function(Plotly) { window.PLOTLYENV=window.PLOTLYENV || {};window.PLOTLYENV.BASE_URL=\"https://plot.ly\";\n",
       "if (document.getElementById(\"167ca468-7f20-444c-a28e-c304064ac444\")) {\n",
       "    Plotly.newPlot(\"167ca468-7f20-444c-a28e-c304064ac444\", [{\"mode\": \"lines+markers\", \"name\": \"CPU\", \"x\": [2015, 2016, 2017, 2018, 2019, 2020, 2021, 2022, 2023, 2024, 2025, 2026, 2027, 2028], \"y\": [101471.33434804667, 246913.58024691357, 253086.41975308643, 253086.41975308643, 431633.6884830035, 431633.6884830035, 283950.6172839506, 283950.6172839506, 283950.6172839506, 425925.9259259259, 574074.074074074, 3827160.4938271604, 3827160.4938271604, 3827160.4938271604], \"type\": \"scatter\", \"uid\": \"5eb1b210-8974-49cf-b268-b75ea7c20da2\"}], {\"title\": {\"text\": \"CPU needs (#cores) per year\"}}, {\"showLink\": false, \"linkText\": \"Export to plot.ly\", \"plotlyServerURL\": \"https://plot.ly\"}); \n",
       "}\n",
       "});</script><script type=\"text/javascript\">window.addEventListener(\"resize\", function(){if (document.getElementById(\"167ca468-7f20-444c-a28e-c304064ac444\")) {window._Plotly.Plots.resize(document.getElementById(\"167ca468-7f20-444c-a28e-c304064ac444\"));};})</script>"
      ]
     },
     "metadata": {},
     "output_type": "display_data"
    }
   ],
   "source": [
    "evgen_time = 10\n",
    "evsim_time = 350\n",
    "NSimEvts = {}\n",
    "CPUReprSim = {}\n",
    "\n",
    "for year in years:\n",
    "    \n",
    "    # Total number of data events to simulate\n",
    "    NSimEvts[year] = LhcP[year]['NSimEv']\n",
    "    \n",
    "    # Define  \"Event Reconstruction time for sim events\"\n",
    "    inP[year].update({'SimEvRecoCPU':inP[year]['RealRecoCPU']})\n",
    "\n",
    "    #Total theoretical time for generating and analyzing montecarlo data\n",
    "    theor_comput_time = NSimEvts[year] * (evgen_time + evsim_time + 2*inP[year]['SimEvRecoCPU'])\n",
    "        \n",
    "    # Number of CPU cores needed to process all the data of a given year once\n",
    "    CPUOneRound[year] = theor_comput_time / (inP[year]['CPUEffReco']*Seconds_in_year) \n",
    "\n",
    "    # Number of CPU cores needed to process all the data of a given year \n",
    "    CPUReprSim[year] = CPUOneRound[year] * inP[year]['SameYrReprData']\n",
    "    \n",
    "    \n",
    "#plot CPUs needed to \n",
    "plotly.offline.init_notebook_mode(connected=True)\n",
    "\n",
    "print ([CPUReprSim[x] for x in years]) \n",
    "\n",
    "data1 = go.Scatter(x=np.array(years), y=[CPUReprSim[x] for x in years], mode='lines+markers', name='CPU')\n",
    "layout = go.Layout(title=\"CPU needs (#cores) per year\")\n",
    "data = [data1,]\n",
    "plotly.offline.iplot({\"data\": data, \"layout\": layout})"
   ]
  },
  {
   "cell_type": "markdown",
   "metadata": {},
   "source": [
    "## Exercise 2\n",
    "\n",
    "Try now to calculate how much disk and tape space you need in order to store the data. \n",
    "\n",
    "1) You need to store 2 copies of the RAW data on tape. You need to store 10% of the RAW data of the current year on disk \n",
    "\n",
    "2) For DATA, you need to store one copy of the AODs on tape. You need to store 2 copies of the AODs on disk for the AODs of the current year. You need to store one copy of the AODs of the previous years on disk. \n",
    "\n",
    "3) For Monte Carlo, you need to store the ouput of Detector Simulation (HITS) on tape and keep 10% of it on disk. One event of HITS is approximately 1MB. You also need to keep 1 copy of the AODs on disk. One simulated AOD is 30% larger in size than a data AOD.  \n",
    "\n",
    "4) In order to facilitate analysis, you need to consider 30% attitional space for AODs to be available in the form of a cache, to facilitate data access\n",
    "\n",
    "5) You can never fill up disk at 100%. Leave a 10% safety margin. \n",
    "\n",
    "\n",
    "\n"
   ]
  },
  {
   "cell_type": "code",
   "execution_count": 9,
   "metadata": {},
   "outputs": [
    {
     "name": "stdout",
     "output_type": "stream",
     "text": [
      "{2015: 4199.250000000001, 2016: 11290.675, 2017: 13900.425000000001, 2018: 16510.175000000003, 2019: 16057.387500000003, 2020: 16057.387500000003, 2021: 22564.795, 2022: 26218.445000000003, 2023: 29872.095000000005, 2024: 28191.817500000005, 2025: 41423.25, 2026: 412529.70000000007, 2027: 516919.70000000007, 2028: 621309.7}\n"
     ]
    }
   ],
   "source": [
    "mem_AOD_prev_years = 0\n",
    "HITS_size = 1000 #kB\n",
    "\n",
    "true_tape_mem = 0\n",
    "mc_tape_mem = 0\n",
    "true_disk_mem = 0\n",
    "mc_disk_mem = 0\n",
    "tot_tape_mem = {}\n",
    "tot_disk_mem = {}\n",
    "\n",
    "for year in years:\n",
    "\n",
    "    # Compute Tape memory\n",
    "    true_tape_mem = NDataEvts[year] * (2*inP[year]['RAWSize'] + inP[year]['AODSize']*1.3)\n",
    "    mc_tape_mem = NSimEvts[year] * HITS_size\n",
    "    tot_tape_mem[year] = (true_tape_mem + mc_tape_mem) * 1.1 / 1000000000 #conversion in TB\n",
    "    \n",
    "    # Compute Disk memory\n",
    "    true_disk_mem = NDataEvts[year] * (0.1*inP[year]['RAWSize'] + 2*inP[year]['AODSize']*1.3) + mem_AOD_prev_years\n",
    "    mc_disk_mem = NSimEvts[year] * (0.1*HITS_size + inP[year]['AODSize']*1.3*1.3)\n",
    "    tot_disk_mem[year] = (true_disk_mem + mc_disk_mem) * 1.1 / 1000000000  #conversion in TB\n",
    "    \n",
    "    # update size of previous years events to save on disk\n",
    "    mem_AOD_prev_years += NDataEvts[year] * inP[year]['AODSize']*1.3\n"
   ]
  },
  {
   "cell_type": "code",
   "execution_count": 17,
   "metadata": {},
   "outputs": [
    {
     "data": {
      "text/html": [
       "<script type=\"text/javascript\">window.PlotlyConfig = {MathJaxConfig: 'local'};</script><script type=\"text/javascript\">if (window.MathJax) {MathJax.Hub.Config({SVG: {font: \"STIX-Web\"}});}</script><script>requirejs.config({paths: { 'plotly': ['https://cdn.plot.ly/plotly-latest.min']},});if(!window._Plotly) {require(['plotly'],function(plotly) {window._Plotly=plotly;});}</script>"
      ],
      "text/vnd.plotly.v1+html": [
       "<script type=\"text/javascript\">window.PlotlyConfig = {MathJaxConfig: 'local'};</script><script type=\"text/javascript\">if (window.MathJax) {MathJax.Hub.Config({SVG: {font: \"STIX-Web\"}});}</script><script>requirejs.config({paths: { 'plotly': ['https://cdn.plot.ly/plotly-latest.min']},});if(!window._Plotly) {require(['plotly'],function(plotly) {window._Plotly=plotly;});}</script>"
      ]
     },
     "metadata": {},
     "output_type": "display_data"
    },
    {
     "name": "stdout",
     "output_type": "stream",
     "text": [
      "[10972.5, 26699.750000000004, 26699.750000000004, 26699.750000000004, 13695.000000000002, 13695.000000000002, 27743.650000000005, 27743.650000000005, 27743.650000000005, 12045.0, 12045.0, 987690.0000000001, 987690.0000000001, 987690.0000000001]\n"
     ]
    },
    {
     "data": {
      "application/vnd.plotly.v1+json": {
       "config": {
        "linkText": "Export to plot.ly",
        "plotlyServerURL": "https://plot.ly",
        "showLink": false
       },
       "data": [
        {
         "mode": "lines+markers",
         "name": "Tape",
         "type": "scatter",
         "uid": "af3a6159-eb48-451b-8a7e-60f82e566aac",
         "x": [
          2015,
          2016,
          2017,
          2018,
          2019,
          2020,
          2021,
          2022,
          2023,
          2024,
          2025,
          2026,
          2027,
          2028
         ],
         "y": [
          10972.5,
          26699.750000000004,
          26699.750000000004,
          26699.750000000004,
          13695.000000000002,
          13695.000000000002,
          27743.650000000005,
          27743.650000000005,
          27743.650000000005,
          12045,
          12045,
          987690.0000000001,
          987690.0000000001,
          987690.0000000001
         ]
        }
       ],
       "layout": {
        "title": {
         "text": "Tape needs (in TB) per year"
        }
       }
      },
      "text/html": [
       "<div id=\"33223106-0528-400c-8c61-0d603f37c1a3\" style=\"height: 525px; width: 100%;\" class=\"plotly-graph-div\"></div><script type=\"text/javascript\">require([\"plotly\"], function(Plotly) { window.PLOTLYENV=window.PLOTLYENV || {};window.PLOTLYENV.BASE_URL=\"https://plot.ly\";\n",
       "if (document.getElementById(\"33223106-0528-400c-8c61-0d603f37c1a3\")) {\n",
       "    Plotly.newPlot(\"33223106-0528-400c-8c61-0d603f37c1a3\", [{\"mode\": \"lines+markers\", \"name\": \"Tape\", \"x\": [2015, 2016, 2017, 2018, 2019, 2020, 2021, 2022, 2023, 2024, 2025, 2026, 2027, 2028], \"y\": [10972.5, 26699.750000000004, 26699.750000000004, 26699.750000000004, 13695.000000000002, 13695.000000000002, 27743.650000000005, 27743.650000000005, 27743.650000000005, 12045.0, 12045.0, 987690.0000000001, 987690.0000000001, 987690.0000000001], \"type\": \"scatter\", \"uid\": \"9576b8fd-1c60-4ca9-af37-87f7423ca7ed\"}], {\"title\": {\"text\": \"Tape needs (in TB) per year\"}}, {\"showLink\": false, \"linkText\": \"Export to plot.ly\", \"plotlyServerURL\": \"https://plot.ly\"}); \n",
       "}\n",
       "});</script><script type=\"text/javascript\">window.addEventListener(\"resize\", function(){if (document.getElementById(\"33223106-0528-400c-8c61-0d603f37c1a3\")) {window._Plotly.Plots.resize(document.getElementById(\"33223106-0528-400c-8c61-0d603f37c1a3\"));};})</script>"
      ],
      "text/vnd.plotly.v1+html": [
       "<div id=\"33223106-0528-400c-8c61-0d603f37c1a3\" style=\"height: 525px; width: 100%;\" class=\"plotly-graph-div\"></div><script type=\"text/javascript\">require([\"plotly\"], function(Plotly) { window.PLOTLYENV=window.PLOTLYENV || {};window.PLOTLYENV.BASE_URL=\"https://plot.ly\";\n",
       "if (document.getElementById(\"33223106-0528-400c-8c61-0d603f37c1a3\")) {\n",
       "    Plotly.newPlot(\"33223106-0528-400c-8c61-0d603f37c1a3\", [{\"mode\": \"lines+markers\", \"name\": \"Tape\", \"x\": [2015, 2016, 2017, 2018, 2019, 2020, 2021, 2022, 2023, 2024, 2025, 2026, 2027, 2028], \"y\": [10972.5, 26699.750000000004, 26699.750000000004, 26699.750000000004, 13695.000000000002, 13695.000000000002, 27743.650000000005, 27743.650000000005, 27743.650000000005, 12045.0, 12045.0, 987690.0000000001, 987690.0000000001, 987690.0000000001], \"type\": \"scatter\", \"uid\": \"9576b8fd-1c60-4ca9-af37-87f7423ca7ed\"}], {\"title\": {\"text\": \"Tape needs (in TB) per year\"}}, {\"showLink\": false, \"linkText\": \"Export to plot.ly\", \"plotlyServerURL\": \"https://plot.ly\"}); \n",
       "}\n",
       "});</script><script type=\"text/javascript\">window.addEventListener(\"resize\", function(){if (document.getElementById(\"33223106-0528-400c-8c61-0d603f37c1a3\")) {window._Plotly.Plots.resize(document.getElementById(\"33223106-0528-400c-8c61-0d603f37c1a3\"));};})</script>"
      ]
     },
     "metadata": {},
     "output_type": "display_data"
    }
   ],
   "source": [
    "plotly.offline.init_notebook_mode(connected=True) \n",
    "\n",
    "print ([tot_tape_mem[x] for x in years]) \n",
    "\n",
    "data1 = go.Scatter(x=np.array(years), y=[tot_tape_mem[x] for x in tot_tape_mem], mode='lines+markers', name='Tape')\n",
    "layout = go.Layout(title=\"Tape needs (in TB) per year\")\n",
    "data = [data1,]\n",
    "plotly.offline.iplot({\"data\": data, \"layout\": layout})"
   ]
  },
  {
   "cell_type": "code",
   "execution_count": 18,
   "metadata": {},
   "outputs": [
    {
     "data": {
      "text/html": [
       "<script type=\"text/javascript\">window.PlotlyConfig = {MathJaxConfig: 'local'};</script><script type=\"text/javascript\">if (window.MathJax) {MathJax.Hub.Config({SVG: {font: \"STIX-Web\"}});}</script><script>requirejs.config({paths: { 'plotly': ['https://cdn.plot.ly/plotly-latest.min']},});if(!window._Plotly) {require(['plotly'],function(plotly) {window._Plotly=plotly;});}</script>"
      ],
      "text/vnd.plotly.v1+html": [
       "<script type=\"text/javascript\">window.PlotlyConfig = {MathJaxConfig: 'local'};</script><script type=\"text/javascript\">if (window.MathJax) {MathJax.Hub.Config({SVG: {font: \"STIX-Web\"}});}</script><script>requirejs.config({paths: { 'plotly': ['https://cdn.plot.ly/plotly-latest.min']},});if(!window._Plotly) {require(['plotly'],function(plotly) {window._Plotly=plotly;});}</script>"
      ]
     },
     "metadata": {},
     "output_type": "display_data"
    },
    {
     "name": "stdout",
     "output_type": "stream",
     "text": [
      "[4199.250000000001, 11290.675, 13900.425000000001, 16510.175000000003, 16057.387500000003, 16057.387500000003, 22564.795, 26218.445000000003, 29872.095000000005, 28191.817500000005, 41423.25, 412529.70000000007, 516919.70000000007, 621309.7]\n"
     ]
    },
    {
     "data": {
      "application/vnd.plotly.v1+json": {
       "config": {
        "linkText": "Export to plot.ly",
        "plotlyServerURL": "https://plot.ly",
        "showLink": false
       },
       "data": [
        {
         "mode": "lines+markers",
         "name": "Disk",
         "type": "scatter",
         "uid": "c03ea026-436c-41ad-aee9-626ab1902f72",
         "x": [
          2015,
          2016,
          2017,
          2018,
          2019,
          2020,
          2021,
          2022,
          2023,
          2024,
          2025,
          2026,
          2027,
          2028
         ],
         "y": [
          4199.250000000001,
          11290.675,
          13900.425000000001,
          16510.175000000003,
          16057.387500000003,
          16057.387500000003,
          22564.795,
          26218.445000000003,
          29872.095000000005,
          28191.817500000005,
          41423.25,
          412529.70000000007,
          516919.70000000007,
          621309.7
         ]
        }
       ],
       "layout": {
        "title": {
         "text": "Disk needs (in TB) per year"
        }
       }
      },
      "text/html": [
       "<div id=\"2a5a8ab4-37bf-4c92-867b-7b8cab167851\" style=\"height: 525px; width: 100%;\" class=\"plotly-graph-div\"></div><script type=\"text/javascript\">require([\"plotly\"], function(Plotly) { window.PLOTLYENV=window.PLOTLYENV || {};window.PLOTLYENV.BASE_URL=\"https://plot.ly\";\n",
       "if (document.getElementById(\"2a5a8ab4-37bf-4c92-867b-7b8cab167851\")) {\n",
       "    Plotly.newPlot(\"2a5a8ab4-37bf-4c92-867b-7b8cab167851\", [{\"mode\": \"lines+markers\", \"name\": \"Disk\", \"x\": [2015, 2016, 2017, 2018, 2019, 2020, 2021, 2022, 2023, 2024, 2025, 2026, 2027, 2028], \"y\": [4199.250000000001, 11290.675, 13900.425000000001, 16510.175000000003, 16057.387500000003, 16057.387500000003, 22564.795, 26218.445000000003, 29872.095000000005, 28191.817500000005, 41423.25, 412529.70000000007, 516919.70000000007, 621309.7], \"type\": \"scatter\", \"uid\": \"734cdfe2-3154-4dd0-a305-c3bb45206135\"}], {\"title\": {\"text\": \"Disk needs (in TB) per year\"}}, {\"showLink\": false, \"linkText\": \"Export to plot.ly\", \"plotlyServerURL\": \"https://plot.ly\"}); \n",
       "}\n",
       "});</script><script type=\"text/javascript\">window.addEventListener(\"resize\", function(){if (document.getElementById(\"2a5a8ab4-37bf-4c92-867b-7b8cab167851\")) {window._Plotly.Plots.resize(document.getElementById(\"2a5a8ab4-37bf-4c92-867b-7b8cab167851\"));};})</script>"
      ],
      "text/vnd.plotly.v1+html": [
       "<div id=\"2a5a8ab4-37bf-4c92-867b-7b8cab167851\" style=\"height: 525px; width: 100%;\" class=\"plotly-graph-div\"></div><script type=\"text/javascript\">require([\"plotly\"], function(Plotly) { window.PLOTLYENV=window.PLOTLYENV || {};window.PLOTLYENV.BASE_URL=\"https://plot.ly\";\n",
       "if (document.getElementById(\"2a5a8ab4-37bf-4c92-867b-7b8cab167851\")) {\n",
       "    Plotly.newPlot(\"2a5a8ab4-37bf-4c92-867b-7b8cab167851\", [{\"mode\": \"lines+markers\", \"name\": \"Disk\", \"x\": [2015, 2016, 2017, 2018, 2019, 2020, 2021, 2022, 2023, 2024, 2025, 2026, 2027, 2028], \"y\": [4199.250000000001, 11290.675, 13900.425000000001, 16510.175000000003, 16057.387500000003, 16057.387500000003, 22564.795, 26218.445000000003, 29872.095000000005, 28191.817500000005, 41423.25, 412529.70000000007, 516919.70000000007, 621309.7], \"type\": \"scatter\", \"uid\": \"734cdfe2-3154-4dd0-a305-c3bb45206135\"}], {\"title\": {\"text\": \"Disk needs (in TB) per year\"}}, {\"showLink\": false, \"linkText\": \"Export to plot.ly\", \"plotlyServerURL\": \"https://plot.ly\"}); \n",
       "}\n",
       "});</script><script type=\"text/javascript\">window.addEventListener(\"resize\", function(){if (document.getElementById(\"2a5a8ab4-37bf-4c92-867b-7b8cab167851\")) {window._Plotly.Plots.resize(document.getElementById(\"2a5a8ab4-37bf-4c92-867b-7b8cab167851\"));};})</script>"
      ]
     },
     "metadata": {},
     "output_type": "display_data"
    }
   ],
   "source": [
    "plotly.offline.init_notebook_mode(connected=True)\n",
    "\n",
    "print ([tot_disk_mem[x] for x in years]) \n",
    "\n",
    "data1 = go.Scatter(x=np.array(years), y=[tot_disk_mem[x] for x in years], mode='lines+markers', name='Disk')\n",
    "layout = go.Layout(title=\"Disk needs (in TB) per year\")\n",
    "data = [data1,]\n",
    "plotly.offline.iplot({\"data\": data, \"layout\": layout})"
   ]
  },
  {
   "cell_type": "markdown",
   "metadata": {},
   "source": [
    "# Exercise 3\n",
    "\n",
    "One CPU core costs 100 Euros. One TB of disk costs 40 Euros. One TB of tape costs 10 Euros\n",
    "What is the largest cost according to this simplified Computing Model "
   ]
  },
  {
   "cell_type": "code",
   "execution_count": 20,
   "metadata": {},
   "outputs": [
    {
     "data": {
      "text/html": [
       "<script type=\"text/javascript\">window.PlotlyConfig = {MathJaxConfig: 'local'};</script><script type=\"text/javascript\">if (window.MathJax) {MathJax.Hub.Config({SVG: {font: \"STIX-Web\"}});}</script><script>requirejs.config({paths: { 'plotly': ['https://cdn.plot.ly/plotly-latest.min']},});if(!window._Plotly) {require(['plotly'],function(plotly) {window._Plotly=plotly;});}</script>"
      ],
      "text/vnd.plotly.v1+html": [
       "<script type=\"text/javascript\">window.PlotlyConfig = {MathJaxConfig: 'local'};</script><script type=\"text/javascript\">if (window.MathJax) {MathJax.Hub.Config({SVG: {font: \"STIX-Web\"}});}</script><script>requirejs.config({paths: { 'plotly': ['https://cdn.plot.ly/plotly-latest.min']},});if(!window._Plotly) {require(['plotly'],function(plotly) {window._Plotly=plotly;});}</script>"
      ]
     },
     "metadata": {},
     "output_type": "display_data"
    },
    {
     "name": "stdout",
     "output_type": "stream",
     "text": [
      "[10932185.1065449, 26898228.761796042, 28545828.638339255, 29421823.576610856, 46356786.51133096, 43942614.34830035, 32661509.781481486, 34350865.65802469, 36040221.53456789, 48470344.92222222, 59184787.4074074, 489341050.962963, 533640107.7530864, 577939164.5432099]\n"
     ]
    },
    {
     "data": {
      "application/vnd.plotly.v1+json": {
       "config": {
        "linkText": "Export to plot.ly",
        "plotlyServerURL": "https://plot.ly",
        "showLink": false
       },
       "data": [
        {
         "mode": "lines+markers",
         "name": "Tot Cost",
         "type": "scatter",
         "uid": "3d86bb7c-866a-4520-bb3b-8accfea6a8b3",
         "x": [
          2015,
          2016,
          2017,
          2018,
          2019,
          2020,
          2021,
          2022,
          2023,
          2024,
          2025,
          2026,
          2027,
          2028
         ],
         "y": [
          10932185.1065449,
          26898228.761796042,
          28545828.638339255,
          29421823.576610856,
          46356786.51133096,
          43942614.34830035,
          32661509.781481486,
          34350865.65802469,
          36040221.53456789,
          48470344.92222222,
          59184787.4074074,
          489341050.962963,
          533640107.7530864,
          577939164.5432099
         ]
        }
       ],
       "layout": {
        "title": {
         "text": "Largest Cost (in euros) per year"
        }
       }
      },
      "text/html": [
       "<div id=\"e6f52a21-280f-4dbd-b462-f95e700a6a3f\" style=\"height: 525px; width: 100%;\" class=\"plotly-graph-div\"></div><script type=\"text/javascript\">require([\"plotly\"], function(Plotly) { window.PLOTLYENV=window.PLOTLYENV || {};window.PLOTLYENV.BASE_URL=\"https://plot.ly\";\n",
       "if (document.getElementById(\"e6f52a21-280f-4dbd-b462-f95e700a6a3f\")) {\n",
       "    Plotly.newPlot(\"e6f52a21-280f-4dbd-b462-f95e700a6a3f\", [{\"mode\": \"lines+markers\", \"name\": \"Tot Cost\", \"x\": [2015, 2016, 2017, 2018, 2019, 2020, 2021, 2022, 2023, 2024, 2025, 2026, 2027, 2028], \"y\": [10932185.1065449, 26898228.761796042, 28545828.638339255, 29421823.576610856, 46356786.51133096, 43942614.34830035, 32661509.781481486, 34350865.65802469, 36040221.53456789, 48470344.92222222, 59184787.4074074, 489341050.962963, 533640107.7530864, 577939164.5432099], \"type\": \"scatter\", \"uid\": \"90580af9-19f9-4a68-a3dd-85cc4b4a7895\"}], {\"title\": {\"text\": \"Largest Cost (in euros) per year\"}}, {\"showLink\": false, \"linkText\": \"Export to plot.ly\", \"plotlyServerURL\": \"https://plot.ly\"}); \n",
       "}\n",
       "});</script><script type=\"text/javascript\">window.addEventListener(\"resize\", function(){if (document.getElementById(\"e6f52a21-280f-4dbd-b462-f95e700a6a3f\")) {window._Plotly.Plots.resize(document.getElementById(\"e6f52a21-280f-4dbd-b462-f95e700a6a3f\"));};})</script>"
      ],
      "text/vnd.plotly.v1+html": [
       "<div id=\"e6f52a21-280f-4dbd-b462-f95e700a6a3f\" style=\"height: 525px; width: 100%;\" class=\"plotly-graph-div\"></div><script type=\"text/javascript\">require([\"plotly\"], function(Plotly) { window.PLOTLYENV=window.PLOTLYENV || {};window.PLOTLYENV.BASE_URL=\"https://plot.ly\";\n",
       "if (document.getElementById(\"e6f52a21-280f-4dbd-b462-f95e700a6a3f\")) {\n",
       "    Plotly.newPlot(\"e6f52a21-280f-4dbd-b462-f95e700a6a3f\", [{\"mode\": \"lines+markers\", \"name\": \"Tot Cost\", \"x\": [2015, 2016, 2017, 2018, 2019, 2020, 2021, 2022, 2023, 2024, 2025, 2026, 2027, 2028], \"y\": [10932185.1065449, 26898228.761796042, 28545828.638339255, 29421823.576610856, 46356786.51133096, 43942614.34830035, 32661509.781481486, 34350865.65802469, 36040221.53456789, 48470344.92222222, 59184787.4074074, 489341050.962963, 533640107.7530864, 577939164.5432099], \"type\": \"scatter\", \"uid\": \"90580af9-19f9-4a68-a3dd-85cc4b4a7895\"}], {\"title\": {\"text\": \"Largest Cost (in euros) per year\"}}, {\"showLink\": false, \"linkText\": \"Export to plot.ly\", \"plotlyServerURL\": \"https://plot.ly\"}); \n",
       "}\n",
       "});</script><script type=\"text/javascript\">window.addEventListener(\"resize\", function(){if (document.getElementById(\"e6f52a21-280f-4dbd-b462-f95e700a6a3f\")) {window._Plotly.Plots.resize(document.getElementById(\"e6f52a21-280f-4dbd-b462-f95e700a6a3f\"));};})</script>"
      ]
     },
     "metadata": {},
     "output_type": "display_data"
    }
   ],
   "source": [
    "cpu_cost = 100\n",
    "tape_cost = 10\n",
    "disk_cost = 40\n",
    "tot_cost = {}\n",
    "for year in years:\n",
    "    tot_cost[year] = (CPURepr[year] + CPUReprSim[year])*cpu_cost + tot_tape_mem[year]*tape_cost + tot_disk_mem[year]*disk_cost\n",
    "\n",
    "# plot max cost        \n",
    "plotly.offline.init_notebook_mode(connected=True)\n",
    "\n",
    "print ([tot_cost[x] for x in years]) \n",
    "\n",
    "data1 = go.Scatter(x=np.array(years), y=[tot_cost[x] for x in years], mode='lines+markers', name='Tot Cost')\n",
    "layout = go.Layout(title=\"Largest Cost (in euros) per year\")\n",
    "data = [data1,]\n",
    "plotly.offline.iplot({\"data\": data, \"layout\": layout})"
   ]
  },
  {
   "cell_type": "code",
   "execution_count": null,
   "metadata": {},
   "outputs": [],
   "source": []
  }
 ],
 "metadata": {
  "kernelspec": {
   "display_name": "Python 3",
   "language": "python",
   "name": "python3"
  },
  "language_info": {
   "codemirror_mode": {
    "name": "ipython",
    "version": 3
   },
   "file_extension": ".py",
   "mimetype": "text/x-python",
   "name": "python",
   "nbconvert_exporter": "python",
   "pygments_lexer": "ipython3",
   "version": "3.7.1"
  }
 },
 "nbformat": 4,
 "nbformat_minor": 2
}
